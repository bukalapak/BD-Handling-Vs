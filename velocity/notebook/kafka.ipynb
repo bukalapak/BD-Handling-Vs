{
 "cells": [
  {
   "cell_type": "markdown",
   "metadata": {},
   "source": [
    "# Kafka: Produce and Consume"
   ]
  },
  {
   "cell_type": "markdown",
   "metadata": {},
   "source": [
    "Test Kafka to produce and consume messages. Please refer to [Confluent's Apache Kafka Python client](https://github.com/confluentinc/confluent-kafka-python) for more details."
   ]
  },
  {
   "cell_type": "markdown",
   "metadata": {},
   "source": [
    "## License"
   ]
  },
  {
   "cell_type": "markdown",
   "metadata": {},
   "source": [
    "MIT License\n",
    "\n",
    "Copyright (c) 2018 PT Bukalapak.com\n",
    "\n",
    "Permission is hereby granted, free of charge, to any person obtaining a copy of this software and associated documentation files (the \"Software\"), to deal in the Software without restriction, including without limitation the rights to use, copy, modify, merge, publish, distribute, sublicense, and/or sell copies of the Software, and to permit persons to whom the Software is furnished to do so, subject to the following conditions:\n",
    "\n",
    "The above copyright notice and this permission notice shall be included in all copies or substantial portions of the Software.\n",
    "\n",
    "THE SOFTWARE IS PROVIDED \"AS IS\", WITHOUT WARRANTY OF ANY KIND, EXPRESS OR IMPLIED, INCLUDING BUT NOT LIMITED TO THE WARRANTIES OF MERCHANTABILITY, FITNESS FOR A PARTICULAR PURPOSE AND NONINFRINGEMENT. IN NO EVENT SHALL THE AUTHORS OR COPYRIGHT HOLDERS BE LIABLE FOR ANY CLAIM, DAMAGES OR OTHER LIABILITY, WHETHER IN AN ACTION OF CONTRACT, TORT OR OTHERWISE, ARISING FROM, OUT OF OR IN CONNECTION WITH THE SOFTWARE OR THE USE OR OTHER DEALINGS IN THE SOFTWARE."
   ]
  },
  {
   "cell_type": "markdown",
   "metadata": {},
   "source": [
    "## Software Version"
   ]
  },
  {
   "cell_type": "code",
   "execution_count": 1,
   "metadata": {},
   "outputs": [
    {
     "name": "stdout",
     "output_type": "stream",
     "text": [
      "Python 3.6.6 | packaged by conda-forge | (default, Oct 12 2018, 14:08:43) \n",
      "[GCC 4.8.2 20140120 (Red Hat 4.8.2-15)]\n"
     ]
    }
   ],
   "source": [
    "import sys\n",
    "print(\"Python %s\" % sys.version)"
   ]
  },
  {
   "cell_type": "code",
   "execution_count": 2,
   "metadata": {},
   "outputs": [
    {
     "name": "stdout",
     "output_type": "stream",
     "text": [
      "confluent_kafka 1.2.0\n"
     ]
    }
   ],
   "source": [
    "import confluent_kafka\n",
    "print(\"confluent_kafka %s\" % confluent_kafka.__version__)\n",
    "from confluent_kafka import Producer, Consumer, KafkaError"
   ]
  },
  {
   "cell_type": "markdown",
   "metadata": {},
   "source": [
    "## Produce"
   ]
  },
  {
   "cell_type": "code",
   "execution_count": 4,
   "metadata": {},
   "outputs": [],
   "source": [
    "broker = 'localhost'\n",
    "\n",
    "p = Producer({'bootstrap.servers': broker})"
   ]
  },
  {
   "cell_type": "code",
   "execution_count": 5,
   "metadata": {},
   "outputs": [],
   "source": [
    "def delivery_report(err, msg):\n",
    "    # Called once for each message produced to indicate delivery result.\n",
    "    # Triggered by poll() or flush().\n",
    "    if err is not None:\n",
    "        print('Message delivery failed: {}'.format(err))\n",
    "    else:\n",
    "        print('Message delivered to {} [{}]'.format(msg.topic(), msg.partition()))"
   ]
  },
  {
   "cell_type": "code",
   "execution_count": 6,
   "metadata": {},
   "outputs": [],
   "source": [
    "some_data_source = [\n",
    "    \"hallo 1\", \n",
    "    \"hallo 2\", \n",
    "    \"hallo 3\"\n",
    "]"
   ]
  },
  {
   "cell_type": "code",
   "execution_count": 7,
   "metadata": {},
   "outputs": [],
   "source": [
    "topic = 'dummy_topic_1'\n",
    "\n",
    "for data in some_data_source:\n",
    "    # Trigger any available delivery report callbacks from previous produce() calls\n",
    "    p.poll(0)\n",
    "\n",
    "    # Asynchronously produce a message, the delivery report callback\n",
    "    # will be triggered from poll() above, or flush() below, when the message has\n",
    "    # been successfully delivered or failed permanently.\n",
    "    p.produce(topic, data.encode('utf-8'), callback=delivery_report)"
   ]
  },
  {
   "cell_type": "code",
   "execution_count": 8,
   "metadata": {},
   "outputs": [
    {
     "name": "stdout",
     "output_type": "stream",
     "text": [
      "Message delivered to dummy_topic_1 [0]\n",
      "Message delivered to dummy_topic_1 [0]\n",
      "Message delivered to dummy_topic_1 [0]\n"
     ]
    },
    {
     "data": {
      "text/plain": [
       "0"
      ]
     },
     "execution_count": 8,
     "metadata": {},
     "output_type": "execute_result"
    }
   ],
   "source": [
    "# Wait for any outstanding messages to be delivered and delivery report\n",
    "# callbacks to be triggered.\n",
    "p.flush()"
   ]
  },
  {
   "cell_type": "markdown",
   "metadata": {},
   "source": [
    "## Consume"
   ]
  },
  {
   "cell_type": "code",
   "execution_count": 9,
   "metadata": {},
   "outputs": [],
   "source": [
    "group = 'dummy_group_1'\n",
    "\n",
    "c = Consumer({\n",
    "    'bootstrap.servers': broker,\n",
    "    'group.id': group,\n",
    "    'default.topic.config': {\n",
    "        'auto.offset.reset': 'smallest'\n",
    "    }\n",
    "})"
   ]
  },
  {
   "cell_type": "code",
   "execution_count": 10,
   "metadata": {},
   "outputs": [],
   "source": [
    "c.subscribe(['dummy_topic_1'])"
   ]
  },
  {
   "cell_type": "code",
   "execution_count": 11,
   "metadata": {},
   "outputs": [],
   "source": [
    "produced_len = len(some_data_source)"
   ]
  },
  {
   "cell_type": "code",
   "execution_count": 12,
   "metadata": {},
   "outputs": [
    {
     "data": {
      "text/plain": [
       "3"
      ]
     },
     "execution_count": 12,
     "metadata": {},
     "output_type": "execute_result"
    }
   ],
   "source": [
    "produced_len"
   ]
  },
  {
   "cell_type": "code",
   "execution_count": 14,
   "metadata": {},
   "outputs": [
    {
     "name": "stdout",
     "output_type": "stream",
     "text": [
      "Received message: hallo 1\n",
      "Received message: hallo 2\n",
      "Received message: hallo 3\n"
     ]
    }
   ],
   "source": [
    "for _ in range(produced_len):\n",
    "    msg = c.poll(1.0)\n",
    "\n",
    "    if msg is None:\n",
    "        continue\n",
    "    if msg.error():\n",
    "        if msg.error().code() == KafkaError._PARTITION_EOF:\n",
    "            continue\n",
    "        else:\n",
    "            print(msg.error())\n",
    "            break\n",
    "\n",
    "    print('Received message: {}'.format(msg.value().decode('utf-8')))"
   ]
  },
  {
   "cell_type": "code",
   "execution_count": 15,
   "metadata": {},
   "outputs": [],
   "source": [
    "c.close()"
   ]
  },
  {
   "cell_type": "markdown",
   "metadata": {},
   "source": [
    "## Software Versions"
   ]
  },
  {
   "cell_type": "code",
   "execution_count": 16,
   "metadata": {},
   "outputs": [
    {
     "name": "stdout",
     "output_type": "stream",
     "text": [
      "NAME=\"Ubuntu\"\n",
      "VERSION=\"18.04.1 LTS (Bionic Beaver)\"\n",
      "ID=ubuntu\n",
      "ID_LIKE=debian\n",
      "PRETTY_NAME=\"Ubuntu 18.04.1 LTS\"\n",
      "VERSION_ID=\"18.04\"\n",
      "HOME_URL=\"https://www.ubuntu.com/\"\n",
      "SUPPORT_URL=\"https://help.ubuntu.com/\"\n",
      "BUG_REPORT_URL=\"https://bugs.launchpad.net/ubuntu/\"\n",
      "PRIVACY_POLICY_URL=\"https://www.ubuntu.com/legal/terms-and-policies/privacy-policy\"\n",
      "VERSION_CODENAME=bionic\n",
      "UBUNTU_CODENAME=bionic\n"
     ]
    }
   ],
   "source": [
    "%%bash\n",
    "cat /etc/os-release"
   ]
  },
  {
   "cell_type": "code",
   "execution_count": 17,
   "metadata": {},
   "outputs": [
    {
     "name": "stdout",
     "output_type": "stream",
     "text": [
      "alembic==0.9.9\n",
      "asn1crypto==0.24.0\n",
      "async-generator==1.10\n",
      "backcall==0.1.0\n",
      "bleach==3.0.2\n",
      "certifi==2018.10.15\n",
      "cffi==1.11.5\n",
      "chardet==3.0.4\n",
      "conda==4.5.11\n",
      "confluent-kafka==1.2.0\n",
      "cryptography==2.3.1\n",
      "cryptography-vectors==2.3.1\n",
      "decorator==4.3.0\n",
      "entrypoints==0.2.3\n",
      "idna==2.7\n",
      "ipykernel==5.1.0\n",
      "ipython==7.0.1\n",
      "ipython-genutils==0.2.0\n",
      "jedi==0.13.1\n",
      "Jinja2==2.10\n",
      "jsonschema==2.6.0\n",
      "jupyter-client==5.2.3\n",
      "jupyter-core==4.4.0\n",
      "jupyterhub==0.9.4\n",
      "jupyterlab==0.34.12\n",
      "jupyterlab-launcher==0.13.1\n",
      "Mako==1.0.7\n",
      "MarkupSafe==1.0\n",
      "mistune==0.8.4\n",
      "nbconvert==5.3.1\n",
      "nbformat==4.4.0\n",
      "notebook==5.7.0\n",
      "pamela==0.3.0\n",
      "pandocfilters==1.4.2\n",
      "parso==0.3.1\n",
      "pexpect==4.6.0\n",
      "pickleshare==0.7.5\n",
      "prometheus-client==0.4.2\n",
      "prompt-toolkit==2.0.6\n",
      "ptyprocess==0.6.0\n",
      "pycosat==0.6.3\n",
      "pycparser==2.19\n",
      "pycurl==7.43.0.2\n",
      "Pygments==2.2.0\n",
      "pyOpenSSL==18.0.0\n",
      "PySocks==1.6.8\n",
      "python-dateutil==2.7.4\n",
      "python-editor==1.0.3\n",
      "python-oauth2==1.0.1\n",
      "pyzmq==17.1.2\n",
      "requests==2.20.0\n",
      "ruamel-yaml==0.15.71\n",
      "Send2Trash==1.5.0\n",
      "simplegeneric==0.8.1\n",
      "six==1.11.0\n",
      "SQLAlchemy==1.2.12\n",
      "terminado==0.8.1\n",
      "testpath==0.4.2\n",
      "tornado==5.1.1\n",
      "traitlets==4.3.2\n",
      "urllib3==1.23\n",
      "wcwidth==0.1.7\n",
      "webencodings==0.5.1\n"
     ]
    }
   ],
   "source": [
    "%%bash\n",
    "pip freeze"
   ]
  },
  {
   "cell_type": "code",
   "execution_count": 18,
   "metadata": {},
   "outputs": [
    {
     "name": "stdout",
     "output_type": "stream",
     "text": [
      "# packages in environment at /opt/conda:\n",
      "#\n",
      "# Name                    Version                   Build  Channel\n",
      "alembic                   0.9.9                      py_0    conda-forge\n",
      "asn1crypto                0.24.0                py36_1003    conda-forge\n",
      "async_generator           1.10                       py_0    conda-forge\n",
      "backcall                  0.1.0                      py_0    conda-forge\n",
      "bleach                    3.0.2                      py_0    conda-forge\n",
      "ca-certificates           2018.10.15           ha4d7672_0    conda-forge\n",
      "certifi                   2018.10.15            py36_1000    conda-forge\n",
      "cffi                      1.11.5           py36h5e8e0c9_1    conda-forge\n",
      "chardet                   3.0.4                 py36_1003    conda-forge\n",
      "conda                     4.5.11                py36_1000    conda-forge\n",
      "conda-env                 2.6.0                         1    conda-forge\n",
      "configurable-http-proxy   3.1.0                   node8_1    conda-forge\n",
      "confluent-kafka           1.2.0                     <pip>\n",
      "cryptography              2.3.1            py36hdffb7b8_0    conda-forge\n",
      "cryptography-vectors      2.3.1                 py36_1000    conda-forge\n",
      "decorator                 4.3.0                      py_0    conda-forge\n",
      "entrypoints               0.2.3                 py36_1002    conda-forge\n",
      "gmp                       6.1.2                hfc679d8_0    conda-forge\n",
      "idna                      2.7                   py36_1002    conda-forge\n",
      "ipykernel                 5.1.0              pyh24bf2e0_0    conda-forge\n",
      "ipython                   7.0.1           py36h24bf2e0_1000    conda-forge\n",
      "ipython_genutils          0.2.0                      py_1    conda-forge\n",
      "jedi                      0.13.1                py36_1000    conda-forge\n",
      "jinja2                    2.10                       py_1    conda-forge\n",
      "jsonschema                2.6.0                 py36_1002    conda-forge\n",
      "jupyter_client            5.2.3                      py_1    conda-forge\n",
      "jupyter_core              4.4.0                      py_0    conda-forge\n",
      "jupyterhub                0.9.4                    py36_0    conda-forge\n",
      "jupyterlab                0.34.12               py36_1000    conda-forge\n",
      "jupyterlab_launcher       0.13.1                     py_2    conda-forge\n",
      "krb5                      1.16.1               hbb41f41_0    conda-forge\n",
      "libcurl                   7.61.1               hbdb9355_2    conda-forge\n",
      "libedit                   3.1.20170329         haf1bffa_1    conda-forge\n",
      "libffi                    3.2.1                hfc679d8_5    conda-forge\n",
      "libgcc                    7.2.0                h69d50b8_2    conda-forge\n",
      "libgcc-ng                 7.2.0                hdf63c60_3    conda-forge\n",
      "libsodium                 1.0.16               h470a237_1    conda-forge\n",
      "libssh2                   1.8.0                h5b517e9_2    conda-forge\n",
      "libstdcxx-ng              7.2.0                hdf63c60_3    conda-forge\n",
      "mako                      1.0.7                      py_1    conda-forge\n",
      "markupsafe                1.0              py36h470a237_1    conda-forge\n",
      "mistune                   0.8.4            py36h470a237_0    conda-forge\n",
      "nbconvert                 5.3.1                      py_1    conda-forge\n",
      "nbformat                  4.4.0                      py_1    conda-forge\n",
      "ncurses                   6.1                  hfc679d8_1    conda-forge\n",
      "nodejs                    8.10.0                        0    conda-forge\n",
      "notebook                  5.7.0                 py36_1000    conda-forge\n",
      "openssl                   1.0.2p               h470a237_1    conda-forge\n",
      "pamela                    0.3.0                   py_1001    conda-forge\n",
      "pandoc                    2.3.1                         0    conda-forge\n",
      "pandocfilters             1.4.2                      py_1    conda-forge\n",
      "parso                     0.3.1                      py_0    conda-forge\n",
      "pexpect                   4.6.0                 py36_1000    conda-forge\n",
      "pickleshare               0.7.5                 py36_1000    conda-forge\n",
      "pip                       18.1                  py36_1000    conda-forge\n",
      "prometheus_client         0.4.2                      py_0    conda-forge\n",
      "prompt_toolkit            2.0.6                      py_0    conda-forge\n",
      "ptyprocess                0.6.0                 py36_1000    conda-forge\n",
      "pycosat                   0.6.3            py36h470a237_1    conda-forge\n",
      "pycparser                 2.19                       py_0    conda-forge\n",
      "pycurl                    7.43.0.2         py36hb7f436b_0    defaults\n",
      "pygments                  2.2.0                      py_1    conda-forge\n",
      "pyopenssl                 18.0.0                py36_1000    conda-forge\n",
      "pysocks                   1.6.8                 py36_1002    conda-forge\n",
      "python                    3.6.6                h5001a0f_3    conda-forge\n",
      "python-dateutil           2.7.4                      py_0    conda-forge\n",
      "python-editor             1.0.3                      py_0    conda-forge\n",
      "python-oauth2             1.0.1                    py36_0    conda-forge\n",
      "pyzmq                     17.1.2           py36hae99301_1    conda-forge\n",
      "readline                  7.0                  haf1bffa_1    conda-forge\n",
      "requests                  2.20.0                py36_1000    conda-forge\n",
      "ruamel_yaml               0.15.71          py36h470a237_0    conda-forge\n",
      "send2trash                1.5.0                      py_0    conda-forge\n",
      "setuptools                40.4.3                   py36_0    conda-forge\n",
      "simplegeneric             0.8.1                      py_1    conda-forge\n",
      "six                       1.11.0                py36_1001    conda-forge\n",
      "sqlalchemy                1.2.12           py36h470a237_0    conda-forge\n",
      "sqlite                    3.25.2               hb1c47c0_0    conda-forge\n",
      "terminado                 0.8.1                 py36_1001    conda-forge\n",
      "testpath                  0.4.2                 py36_1000    conda-forge\n",
      "tini                      0.18.0               h470a237_1    conda-forge\n",
      "tk                        8.6.8                ha92aebf_0    conda-forge\n",
      "tornado                   5.1.1            py36h470a237_0    conda-forge\n",
      "traitlets                 4.3.2                 py36_1000    conda-forge\n",
      "urllib3                   1.23                  py36_1001    conda-forge\n",
      "wcwidth                   0.1.7                      py_1    conda-forge\n",
      "webencodings              0.5.1                      py_1    conda-forge\n",
      "wheel                     0.32.2                   py36_0    conda-forge\n",
      "xz                        5.2.4                h470a237_1    conda-forge\n",
      "yaml                      0.1.7                h470a237_1    conda-forge\n",
      "zeromq                    4.2.5                hfc679d8_6    conda-forge\n",
      "zlib                      1.2.11               h470a237_3    conda-forge\n"
     ]
    }
   ],
   "source": [
    "%%bash\n",
    "conda list"
   ]
  }
 ],
 "metadata": {
  "kernelspec": {
   "display_name": "Python 3",
   "language": "python",
   "name": "python3"
  },
  "language_info": {
   "codemirror_mode": {
    "name": "ipython",
    "version": 3
   },
   "file_extension": ".py",
   "mimetype": "text/x-python",
   "name": "python",
   "nbconvert_exporter": "python",
   "pygments_lexer": "ipython3",
   "version": "3.6.6"
  }
 },
 "nbformat": 4,
 "nbformat_minor": 2
}
