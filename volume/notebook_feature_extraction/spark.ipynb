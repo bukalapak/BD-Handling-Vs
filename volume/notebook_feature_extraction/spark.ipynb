{
 "cells": [
  {
   "cell_type": "markdown",
   "metadata": {},
   "source": [
    "# Handling Volume with Apache Spark"
   ]
  },
  {
   "cell_type": "markdown",
   "metadata": {},
   "source": [
    "Use Apache Spark to perform image classification from preprocessed images."
   ]
  },
  {
   "cell_type": "markdown",
   "metadata": {},
   "source": [
    "## License"
   ]
  },
  {
   "cell_type": "markdown",
   "metadata": {},
   "source": [
    "MIT License\n",
    "\n",
    "Copyright (c) 2019 PT Bukalapak.com\n",
    "\n",
    "Permission is hereby granted, free of charge, to any person obtaining a copy of this software and associated documentation files (the \"Software\"), to deal in the Software without restriction, including without limitation the rights to use, copy, modify, merge, publish, distribute, sublicense, and/or sell copies of the Software, and to permit persons to whom the Software is furnished to do so, subject to the following conditions:\n",
    "\n",
    "The above copyright notice and this permission notice shall be included in all copies or substantial portions of the Software.\n",
    "\n",
    "THE SOFTWARE IS PROVIDED \"AS IS\", WITHOUT WARRANTY OF ANY KIND, EXPRESS OR IMPLIED, INCLUDING BUT NOT LIMITED TO THE WARRANTIES OF MERCHANTABILITY, FITNESS FOR A PARTICULAR PURPOSE AND NONINFRINGEMENT. IN NO EVENT SHALL THE AUTHORS OR COPYRIGHT HOLDERS BE LIABLE FOR ANY CLAIM, DAMAGES OR OTHER LIABILITY, WHETHER IN AN ACTION OF CONTRACT, TORT OR OTHERWISE, ARISING FROM, OUT OF OR IN CONNECTION WITH THE SOFTWARE OR THE USE OR OTHER DEALINGS IN THE SOFTWARE."
   ]
  },
  {
   "cell_type": "markdown",
   "metadata": {},
   "source": [
    "## Software Version"
   ]
  },
  {
   "cell_type": "code",
   "execution_count": 1,
   "metadata": {},
   "outputs": [
    {
     "name": "stdout",
     "output_type": "stream",
     "text": [
      "Python 3.7.3 | packaged by conda-forge | (default, Jul  1 2019, 21:52:21) \n",
      "[GCC 7.3.0]\n"
     ]
    }
   ],
   "source": [
    "import sys\n",
    "print(\"Python %s\" % sys.version)\n",
    "import base64\n",
    "import pickle\n",
    "import shutil"
   ]
  },
  {
   "cell_type": "code",
   "execution_count": 2,
   "metadata": {},
   "outputs": [
    {
     "name": "stdout",
     "output_type": "stream",
     "text": [
      "NumPy 1.15.4\n"
     ]
    }
   ],
   "source": [
    "import numpy as np\n",
    "print(\"NumPy %s\" % np.__version__)"
   ]
  },
  {
   "cell_type": "code",
   "execution_count": 3,
   "metadata": {},
   "outputs": [
    {
     "name": "stdout",
     "output_type": "stream",
     "text": [
      "TensorFlow 1.14.0\n"
     ]
    }
   ],
   "source": [
    "import tensorflow as tf\n",
    "print(\"TensorFlow %s\" % tf.__version__)"
   ]
  },
  {
   "cell_type": "code",
   "execution_count": 4,
   "metadata": {},
   "outputs": [
    {
     "name": "stdout",
     "output_type": "stream",
     "text": [
      "PySpark 2.3.3\n"
     ]
    }
   ],
   "source": [
    "import pyspark\n",
    "print(\"PySpark %s\" % pyspark.__version__)\n",
    "from pyspark.sql import SparkSession, Row"
   ]
  },
  {
   "cell_type": "markdown",
   "metadata": {},
   "source": [
    "## Settings"
   ]
  },
  {
   "cell_type": "code",
   "execution_count": 5,
   "metadata": {},
   "outputs": [
    {
     "name": "stdout",
     "output_type": "stream",
     "text": [
      "Built With CUDA: False\n"
     ]
    }
   ],
   "source": [
    "print(\"Built With CUDA:\", tf.test.is_built_with_cuda())"
   ]
  },
  {
   "cell_type": "code",
   "execution_count": 6,
   "metadata": {},
   "outputs": [
    {
     "name": "stdout",
     "output_type": "stream",
     "text": [
      "Keras FP Precision: float32\n"
     ]
    }
   ],
   "source": [
    "print(\"Keras FP Precision:\", tf.keras.backend.floatx())"
   ]
  },
  {
   "cell_type": "code",
   "execution_count": 7,
   "metadata": {},
   "outputs": [],
   "source": [
    "LOCAL_PROJECT_URL = '/home/jovyan/work/'"
   ]
  },
  {
   "cell_type": "markdown",
   "metadata": {},
   "source": [
    "## Create Spark Context"
   ]
  },
  {
   "cell_type": "markdown",
   "metadata": {},
   "source": [
    "Set config to run Spark locally with 2 threads."
   ]
  },
  {
   "cell_type": "code",
   "execution_count": 8,
   "metadata": {},
   "outputs": [],
   "source": [
    "APP_NAME = \"bukalapak-core-ai.big-data-3v.volume-spark-feature-extraction\"\n",
    "spark = SparkSession \\\n",
    "    .builder \\\n",
    "    .appName(APP_NAME) \\\n",
    "    .config(\"spark.master\", \"local[2]\") \\\n",
    "    .getOrCreate()"
   ]
  },
  {
   "cell_type": "code",
   "execution_count": 9,
   "metadata": {},
   "outputs": [],
   "source": [
    "sc = spark.sparkContext"
   ]
  },
  {
   "cell_type": "code",
   "execution_count": 10,
   "metadata": {},
   "outputs": [
    {
     "data": {
      "text/html": [
       "\n",
       "        <div>\n",
       "            <p><b>SparkContext</b></p>\n",
       "\n",
       "            <p><a href=\"http://6cf0dbfb5e10:4040\">Spark UI</a></p>\n",
       "\n",
       "            <dl>\n",
       "              <dt>Version</dt>\n",
       "                <dd><code>v2.3.3</code></dd>\n",
       "              <dt>Master</dt>\n",
       "                <dd><code>local[2]</code></dd>\n",
       "              <dt>AppName</dt>\n",
       "                <dd><code>bukalapak-core-ai.big-data-3v.volume-spark-feature-extraction</code></dd>\n",
       "            </dl>\n",
       "        </div>\n",
       "        "
      ],
      "text/plain": [
       "<SparkContext master=local[2] appName=bukalapak-core-ai.big-data-3v.volume-spark-feature-extraction>"
      ]
     },
     "execution_count": 10,
     "metadata": {},
     "output_type": "execute_result"
    }
   ],
   "source": [
    "sc"
   ]
  },
  {
   "cell_type": "code",
   "execution_count": 11,
   "metadata": {},
   "outputs": [
    {
     "data": {
      "text/plain": [
       "[('spark.app.name',\n",
       "  'bukalapak-core-ai.big-data-3v.volume-spark-feature-extraction'),\n",
       " ('spark.driver.port', '34019'),\n",
       " ('spark.rdd.compress', 'True'),\n",
       " ('spark.driver.host', '6cf0dbfb5e10'),\n",
       " ('spark.serializer.objectStreamReset', '100'),\n",
       " ('spark.app.id', 'local-1564465161105'),\n",
       " ('spark.executor.id', 'driver'),\n",
       " ('spark.submit.deployMode', 'client'),\n",
       " ('spark.ui.showConsoleProgress', 'true'),\n",
       " ('spark.master', 'local[2]')]"
      ]
     },
     "execution_count": 11,
     "metadata": {},
     "output_type": "execute_result"
    }
   ],
   "source": [
    "sc.getConf().getAll()"
   ]
  },
  {
   "cell_type": "markdown",
   "metadata": {},
   "source": [
    "## Generate Preprocessed Images for Input"
   ]
  },
  {
   "cell_type": "markdown",
   "metadata": {},
   "source": [
    "Generate preprocessed images and store them in HDFS Orc file. Preprocessed images normally come from previous process."
   ]
  },
  {
   "cell_type": "code",
   "execution_count": 12,
   "metadata": {},
   "outputs": [],
   "source": [
    "# ped: preprocessed image\n",
    "def convert_image_url_to_ped(x):\n",
    "    import io, base64, pickle\n",
    "    from PIL import Image as pil_image\n",
    "    import tensorflow as tf\n",
    "    # Convert URL to PIL image\n",
    "    image_url = x[0]\n",
    "    image_pil = pil_image.open(image_url)\n",
    "    # Make Sure the Image is in RGB (not BW)\n",
    "    if image_pil.mode != 'RGB':\n",
    "        image_pil = image_pil.convert('RGB')\n",
    "    # Resize Image\n",
    "    target_size = (224, 224)\n",
    "    width_height_tuple = (target_size[1], target_size[0])\n",
    "    if image_pil.size != width_height_tuple:\n",
    "        image_pil = image_pil.resize(width_height_tuple, pil_image.NEAREST)\n",
    "    # Normalise Image\n",
    "    image_np = tf.keras.preprocessing.image.img_to_array(image_pil)\n",
    "    image_np = tf.keras.applications.vgg16.preprocess_input(image_np)\n",
    "    # Convert numpy array to string\n",
    "    image_ped = base64.b64encode(pickle.dumps(image_np)).decode('UTF-8')\n",
    "    \n",
    "    return [\"local_disk\", image_url, \"jeket\", image_ped]"
   ]
  },
  {
   "cell_type": "code",
   "execution_count": 13,
   "metadata": {},
   "outputs": [],
   "source": [
    "def convert_image_url_to_ped_orc(image_url_pathfilename, image_ped_orc_pathfilename):\n",
    "    image_url_file_rdd = sc.textFile(image_url_pathfilename)\n",
    "    print(\"        Number of Partitions:\", image_url_file_rdd.getNumPartitions())\n",
    "    image_url_list_rdd = image_url_file_rdd.map(lambda x: x.split('\\n'))\n",
    "    image_ped_list_rdd = image_url_list_rdd.map(lambda x: convert_image_url_to_ped(x))\n",
    "    image_ped_dict_rdd = image_ped_list_rdd.map(lambda x: Row(tid=x[0], \n",
    "                                                              iid=x[1], \n",
    "                                                              l=x[2], \n",
    "                                                              i_ped=x[3]))\n",
    "    image_ped_dict_df = spark.createDataFrame(image_ped_dict_rdd)\n",
    "    image_ped_dict_df.write.save(image_ped_orc_pathfilename, format=\"orc\")"
   ]
  },
  {
   "cell_type": "code",
   "execution_count": 14,
   "metadata": {},
   "outputs": [
    {
     "name": "stdout",
     "output_type": "stream",
     "text": [
      "        Number of Partitions: 2\n"
     ]
    }
   ],
   "source": [
    "# Input file path\n",
    "image_url_pathfilename = \"file:{0}data/image_paths_10.txt\".format(LOCAL_PROJECT_URL)\n",
    "# Output file path\n",
    "image_ped_orc_directory = \"{0}data/images_ped.orc\".format(LOCAL_PROJECT_URL)\n",
    "image_ped_orc_pathfilename = \"file:%s\" % image_ped_orc_directory\n",
    "# Remove existing output directory\n",
    "shutil.rmtree(image_ped_orc_directory, ignore_errors=True)\n",
    "# Start preprocessing\n",
    "convert_image_url_to_ped_orc(image_url_pathfilename, image_ped_orc_pathfilename)"
   ]
  },
  {
   "cell_type": "markdown",
   "metadata": {},
   "source": [
    "## Making Inference"
   ]
  },
  {
   "cell_type": "markdown",
   "metadata": {},
   "source": [
    "Making inference using VGG16 model[1] pretrained with imagenet."
   ]
  },
  {
   "cell_type": "code",
   "execution_count": 15,
   "metadata": {},
   "outputs": [],
   "source": [
    "# input is the list of [tid, iid, l, i_ped] from preprocessed image table\n",
    "# output is the list of [tid, iid, pred] for inference result table\n",
    "# where:\n",
    "#  - tid: table ID\n",
    "#  - iid: image ID\n",
    "#  - l: label\n",
    "#  - i_ped: preprocessed image\n",
    "#  - pred: output of prediction layer (the inference result)\n",
    "\n",
    "def make_inference(xs):\n",
    "    import base64, pickle\n",
    "    import numpy as np\n",
    "    import tensorflow as tf\n",
    "    # Extract input lists\n",
    "    inference_lists = []\n",
    "    images_array = []\n",
    "    for x in xs:\n",
    "        inference_lists.append([x.tid, x.iid])\n",
    "        images_array.append(pickle.loads(base64.b64decode(x.i_ped.encode('UTF-8'))))\n",
    "    images_np = np.array(images_array)\n",
    "    # Load VGG16 model\n",
    "    vgg = tf.keras.applications.vgg16.VGG16(weights='imagenet', include_top=True)\n",
    "    # Do inference\n",
    "    inference = vgg.predict(images_np)\n",
    "    # Add Medusa features to output lists\n",
    "    if len(inference_lists) != len(inference):\n",
    "        raise ValueError('Total of image information lists is not ' +\n",
    "                         'the same as the total of Medusa feature lists')\n",
    "    for i in range(len(inference_lists)):\n",
    "        inference_lists[i].append(\n",
    "            base64.b64encode(pickle.dumps(inference[i])).decode('UTF-8')\n",
    "        )\n",
    "\n",
    "    return iter(inference_lists)"
   ]
  },
  {
   "cell_type": "code",
   "execution_count": 16,
   "metadata": {},
   "outputs": [],
   "source": [
    "def convert_image_ped_orc_to_infr_orc(image_ped_orc_pathfilename,\n",
    "                                      image_infr_orc_pathfilename):\n",
    "    image_ped_dict_df = spark.read.orc(image_ped_orc_pathfilename)\n",
    "    image_ped_dict_rdd = image_ped_dict_df.rdd\n",
    "    print(\"        Number of Partitions:\", image_ped_dict_rdd.getNumPartitions())\n",
    "    image_infr_list_rdd = image_ped_dict_rdd.mapPartitions(make_inference)\n",
    "    image_infr_dict_rdd = image_infr_list_rdd.map(lambda x: Row(tid=x[0],\n",
    "                                                                iid=x[1],\n",
    "                                                                pred=x[2]))\n",
    "    image_infr_dict_df = spark.createDataFrame(image_infr_dict_rdd)\n",
    "    image_infr_dict_df.write.save(image_infr_orc_pathfilename, format=\"orc\")"
   ]
  },
  {
   "cell_type": "code",
   "execution_count": 17,
   "metadata": {},
   "outputs": [
    {
     "name": "stdout",
     "output_type": "stream",
     "text": [
      "        Number of Partitions: 2\n"
     ]
    }
   ],
   "source": [
    "# Input file path\n",
    "image_ped_orc_directory = \"{0}data/images_ped.orc\".format(LOCAL_PROJECT_URL)\n",
    "image_ped_orc_pathfilename = \"file:{0}\".format(image_ped_orc_directory)\n",
    "# Output file path\n",
    "image_infr_orc_directory = \"{0}data/images_infr.orc\".format(LOCAL_PROJECT_URL)\n",
    "image_infr_orc_pathfilename = \"file:{0}\".format(image_infr_orc_directory)\n",
    "# Remove existing output directory\n",
    "shutil.rmtree(image_infr_orc_directory, ignore_errors=True)\n",
    "# Start making inference\n",
    "convert_image_ped_orc_to_infr_orc(image_ped_orc_pathfilename, \n",
    "                                  image_infr_orc_pathfilename)"
   ]
  },
  {
   "cell_type": "markdown",
   "metadata": {},
   "source": [
    "## Check Result"
   ]
  },
  {
   "cell_type": "code",
   "execution_count": 18,
   "metadata": {},
   "outputs": [],
   "source": [
    "# Read inference result\n",
    "image_infr_orc_directory = \"{0}data/images_infr.orc\".format(LOCAL_PROJECT_URL)\n",
    "image_infr_orc_pathfilename = \"file:{0}\".format(image_infr_orc_directory)\n",
    "image_infr_dict_df = spark.read.orc(image_infr_orc_pathfilename)"
   ]
  },
  {
   "cell_type": "code",
   "execution_count": 19,
   "metadata": {},
   "outputs": [],
   "source": [
    "image_infr_dict_rdd = image_infr_dict_df.rdd\n",
    "inference_lists = image_infr_dict_rdd.take(1)[0]"
   ]
  },
  {
   "cell_type": "code",
   "execution_count": 20,
   "metadata": {},
   "outputs": [
    {
     "data": {
      "text/plain": [
       "'./data/images/jacket copy 0.png'"
      ]
     },
     "execution_count": 20,
     "metadata": {},
     "output_type": "execute_result"
    }
   ],
   "source": [
    "inference_lists[0]"
   ]
  },
  {
   "cell_type": "code",
   "execution_count": 21,
   "metadata": {},
   "outputs": [
    {
     "data": {
      "text/plain": [
       "'gANjbnVtcHkuY29yZS5tdWx0aWFycmF5Cl9yZWNvbnN0cnVjdApxAGNudW1weQpuZGFycmF5CnEBSwCFcQJDAWJxA4dxBFJxBShL'"
      ]
     },
     "execution_count": 21,
     "metadata": {},
     "output_type": "execute_result"
    }
   ],
   "source": [
    "inference_lists[1][:100]"
   ]
  },
  {
   "cell_type": "code",
   "execution_count": 22,
   "metadata": {},
   "outputs": [],
   "source": [
    "def convert_pbs_to_infr_tensor(pbs):\n",
    "    return np.array(\n",
    "        [list(pickle.loads(base64.b64decode(pbs.encode('UTF-8'))))])"
   ]
  },
  {
   "cell_type": "code",
   "execution_count": 23,
   "metadata": {},
   "outputs": [
    {
     "data": {
      "text/plain": [
       "[[('n04370456', 'sweatshirt', 0.971396),\n",
       "  ('n04599235', 'wool', 0.015504221),\n",
       "  ('n03595614', 'jersey', 0.005360415),\n",
       "  ('n02963159', 'cardigan', 0.0013214782),\n",
       "  ('n03594734', 'jean', 0.0011332377)]]"
      ]
     },
     "execution_count": 23,
     "metadata": {},
     "output_type": "execute_result"
    }
   ],
   "source": [
    "tf.keras.applications.vgg16.decode_predictions(\n",
    "    convert_pbs_to_infr_tensor(inference_lists[1]))"
   ]
  },
  {
   "cell_type": "markdown",
   "metadata": {},
   "source": [
    "Expected result:\n",
    "```\n",
    "[[('n04370456', 'sweatshirt', 0.971396),\n",
    "  ('n04599235', 'wool', 0.015504221),\n",
    "  ('n03595614', 'jersey', 0.005360415),\n",
    "  ('n02963159', 'cardigan', 0.0013214782),\n",
    "  ('n03594734', 'jean', 0.0011332377)]]\n",
    "```"
   ]
  },
  {
   "cell_type": "markdown",
   "metadata": {},
   "source": [
    "## Close Spark Context"
   ]
  },
  {
   "cell_type": "code",
   "execution_count": 24,
   "metadata": {},
   "outputs": [],
   "source": [
    "sc.stop()"
   ]
  },
  {
   "cell_type": "code",
   "execution_count": 25,
   "metadata": {},
   "outputs": [],
   "source": [
    "spark.stop()"
   ]
  },
  {
   "cell_type": "markdown",
   "metadata": {},
   "source": [
    "## References"
   ]
  },
  {
   "cell_type": "markdown",
   "metadata": {},
   "source": [
    "1. K Simonyan, A Zisserman. 2014. Very Deep Convolutional Networks for Large-Scale Image Recognition. CoRR, abs/1409.1556. http://arxiv.org/abs/1409.1556."
   ]
  }
 ],
 "metadata": {
  "kernelspec": {
   "display_name": "Python 3",
   "language": "python",
   "name": "python3"
  },
  "language_info": {
   "codemirror_mode": {
    "name": "ipython",
    "version": 3
   },
   "file_extension": ".py",
   "mimetype": "text/x-python",
   "name": "python",
   "nbconvert_exporter": "python",
   "pygments_lexer": "ipython3",
   "version": "3.7.3"
  }
 },
 "nbformat": 4,
 "nbformat_minor": 2
}
